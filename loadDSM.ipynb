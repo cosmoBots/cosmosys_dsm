{
 "cells": [
  {
   "cell_type": "code",
   "execution_count": null,
   "metadata": {},
   "outputs": [],
   "source": [
    "cfg_id_column = 0\n",
    "cfg_title_column = 2\n",
    "cfg_description_column = 13\n",
    "cfg_depend_column = 4\n",
    "cfg_first_valid_row = 1\n",
    "cfg_project_prefix_cfid = 21\n",
    "cfg_rmtracker_id = 3\n",
    "cfg_rmtitle_cfid = 16\n",
    "cfg_enable_duration = True\n",
    "cfg_enable_assignee = True\n",
    "cfg_duration_column = 9\n",
    "cfg_assignee_column = 11\n",
    "cfg_enable_collaborators = True\n",
    "cfg_collaborators_column = 12\n",
    "rm_cfield_collaborators = 29\n",
    "cfg_enable_workload = False\n",
    "cfg_workload_column = 10\n",
    "rm_cfield_dep = 32\n",
    "cfg_enable_otherdep = True\n",
    "cfg_otherdep_column = 5"
   ]
  },
  {
   "cell_type": "code",
   "execution_count": null,
   "metadata": {},
   "outputs": [],
   "source": [
    "import sys\n",
    "from collections import OrderedDict\n",
    "from pyexcel_ods import get_data\n",
    "from config_rm import *\n",
    "from redminelib import Redmine"
   ]
  },
  {
   "cell_type": "code",
   "execution_count": null,
   "metadata": {},
   "outputs": [],
   "source": [
    "redmine = Redmine(rm_server_url,key=rm_key_txt)\n",
    "projects = redmine.project.all()"
   ]
  },
  {
   "cell_type": "code",
   "execution_count": null,
   "metadata": {},
   "outputs": [],
   "source": [
    "print(\"Proyectos:\")\n",
    "for p in projects:\n",
    "    print (\"\\t\",p.identifier,\" \\t| \",p.name)\n",
    "\n",
    "my_project = redmine.project.get(rm_project_id_str)\n",
    "print (\"Obtenemos proyecto: \",my_project.identifier,\" | \",my_project.name)"
   ]
  },
  {
   "cell_type": "code",
   "execution_count": null,
   "metadata": {},
   "outputs": [],
   "source": [
    "file_path = \"input_dsm.ods\"\n",
    "data = get_data(file_path)['_RqDep']\n",
    "tasks = {}"
   ]
  },
  {
   "cell_type": "code",
   "execution_count": null,
   "metadata": {},
   "outputs": [],
   "source": [
    "\n",
    "i = 0\n",
    "tasks = {}\n",
    "for row in data:\n",
    "    # Let's skip the first row\n",
    "    if (i >= cfg_first_valid_row):\n",
    "        thisTsk = {}\n",
    "        if (len(row) > cfg_title_column) and (len(row[cfg_title_column]) > 0):\n",
    "            thisTsk['rmid'] = 0\n",
    "            thisTsk['rmident'] = ''\n",
    "            thisTsk['row'] = i\n",
    "            thisTsk['ident'] = row[cfg_id_column].strip()\n",
    "            thisTsk['title'] = row[cfg_title_column].strip()\n",
    "            if (len(row) > cfg_description_column):\n",
    "                thisTsk['description'] = row[cfg_description_column].strip()\n",
    "            else:\n",
    "                thisTsk['description'] = None\n",
    "            thisTsk['dependences'] = []\n",
    "            if (len(row) > cfg_depend_column):\n",
    "                tmp = row[cfg_depend_column].strip()\n",
    "                if (tmp != ''):\n",
    "                    thisTsk['dependences'] = tmp.split(' ')\n",
    "                                \n",
    "            if (cfg_enable_otherdep):\n",
    "                thisTsk['otherdep'] = []\n",
    "                if (len(row) > cfg_otherdep_column):\n",
    "                    tmp = row[cfg_otherdep_column].strip()\n",
    "                    if (tmp != ''):\n",
    "                        thisTsk['otherdep'] = tmp.split(' ')\n",
    "            \n",
    "            #print(thisTsk)\n",
    "            tasks[thisTsk['ident']] = thisTsk\n",
    "            print(thisTsk['ident'])\n",
    "            \n",
    "            if (cfg_enable_duration):\n",
    "                if (len(row) > cfg_duration_column):\n",
    "                    tmp = row[cfg_duration_column]\n",
    "                    if (tmp is not None) and (tmp != ''):\n",
    "                        thisTsk['duration'] = tmp\n",
    "                    \n",
    "            if (cfg_enable_assignee):\n",
    "                if (len(row) > cfg_assignee_column):\n",
    "                    tmp = row[cfg_assignee_column].strip()\n",
    "                    if (tmp is not None) and (tmp != ''):\n",
    "                        print(\"assignee: |\"+tmp+\"|\")\n",
    "                        thisTsk['assignee'] = tmp                    \n",
    "\n",
    "            if (cfg_enable_collaborators):\n",
    "                thisTsk['collaborators'] = []\n",
    "                if (len(row) > cfg_collaborators_column):\n",
    "                    tmp = row[cfg_collaborators_column].strip()\n",
    "                    if (tmp is not None) and (tmp != ''):\n",
    "                        print(\"collaborators: |\"+tmp+\"|\")\n",
    "                        thisTsk['collaborators'] = tmp.split(' ')\n",
    "                        \n",
    "                print(thisTsk['collaborators'])\n",
    "\n",
    "\n",
    "    \n",
    "    i += 1\n",
    "    \n"
   ]
  },
  {
   "cell_type": "code",
   "execution_count": null,
   "metadata": {},
   "outputs": [],
   "source": [
    "print(tasks.keys())"
   ]
  },
  {
   "cell_type": "markdown",
   "metadata": {},
   "source": [
    "Vamos a buscar las mismas tareas al Redmine, si es posible encontrarlas"
   ]
  },
  {
   "cell_type": "code",
   "execution_count": null,
   "metadata": {},
   "outputs": [],
   "source": [
    "# Buscamos el prefijo del proyecto\n",
    "prjPrefix = my_project.custom_fields.get(cfg_project_prefix_cfid).value\n",
    "lenPrjPrefix = len(prjPrefix)\n",
    "# Recorreremos los identificadores de las tareas cargadas del ODS para ver si alguno se corresponde con un identificador válido de proyecto\n",
    "for tskey in tasks.keys():\n",
    "    thisRmTsk = None\n",
    "    if (len(tskey)>lenPrjPrefix+1):\n",
    "        tskPrefix = tskey[0:lenPrjPrefix]\n",
    "        if (tskPrefix == prjPrefix) and (tskey[lenPrjPrefix] == '-'):\n",
    "            print(\"Identificador rm:\",tskey)\n",
    "            thisRmTskList = myproject.issues.filter(status_id='*',subject=tskey)\n",
    "            if (len(thisRmTskList)==1):\n",
    "                # hemos encontrado una tarea de Redmine que cuadra\n",
    "                thisRmTsk = thisRmTskList[0]\n",
    "                tasks[tskey]['rmident'] = tskey\n",
    "                tasks[tskey]['rmid'] = thisRmTsk.id\n",
    "                tasks[tskey]['rmtsk'] = thisRmTsk\n",
    "                \n",
    "    if (thisRmTsk == None):\n",
    "        print(\"Tarea nueva\",tskey)\n",
    "        thisRmTsk = redmine.issue.create(project_id = my_project.id,\n",
    "            tracker_id = cfg_rmtracker_id,\n",
    "            description = tasks[tskey]['description'],\n",
    "            custom_fields=[\n",
    "                {'id': cfg_rmtitle_cfid,'value': tasks[tskey]['title']}\n",
    "            ]\n",
    "        )\n",
    "        tasks[tskey]['rmident'] = thisRmTsk.subject\n",
    "        tasks[tskey]['rmid'] = thisRmTsk.id\n",
    "        tasks[tskey]['rmtsk'] = thisRmTsk\n"
   ]
  },
  {
   "cell_type": "code",
   "execution_count": null,
   "metadata": {},
   "outputs": [],
   "source": [
    "for tskey in tasks.keys():\n",
    "    print(\"id\",tskey,\"rmident\",tasks[tskey]['rmident'])"
   ]
  },
  {
   "cell_type": "code",
   "execution_count": null,
   "metadata": {},
   "outputs": [],
   "source": [
    "# Recorreremos de nuevo los identificadores de las tareas cargadas del ODS para crear/modificar sus relaciones\n",
    "for tskey in tasks.keys():\n",
    "    odsDependences = tasks[tskey]['dependences']\n",
    "    print(\"id\",tskey,odsDependences)\n",
    "    rmDependences = []\n",
    "    for dpd in odsDependences:\n",
    "        if (dpd != ''):\n",
    "            thisRmId = tasks[dpd]['rmid']\n",
    "            print(thisRmId)\n",
    "            rmDependences.append(thisRmId)\n",
    "        \n",
    "    tasks[tskey]['rmdep'] = rmDependences\n",
    "    "
   ]
  },
  {
   "cell_type": "code",
   "execution_count": null,
   "metadata": {},
   "outputs": [],
   "source": [
    "if (cfg_enable_otherdep):\n",
    "    for tskey in tasks.keys():\n",
    "        odsOtherDep = tasks[tskey]['otherdep']\n",
    "        print(\"id\",tskey,odsOtherDep)\n",
    "        rmOtherDep = []\n",
    "        for dpd in odsOtherDep:\n",
    "            if (dpd != ''):\n",
    "                thisRmId = tasks[dpd]['rmid']\n",
    "                print(thisRmId)\n",
    "                rmOtherDep.append(thisRmId)\n",
    "\n",
    "        tasks[tskey]['rmotherdep'] = rmOtherDep    "
   ]
  },
  {
   "cell_type": "code",
   "execution_count": null,
   "metadata": {},
   "outputs": [],
   "source": [
    "# Ahora buscamos las dependencias ya existentes en el Redmine y las restamos de las relaciones a añadir\n",
    "for tskey in tasks.keys():\n",
    "    print(\"id\",tskey,tasks[tskey]['dependences'],tasks[tskey]['rmdep'])\n",
    "    thisTskRmId = tasks[tskey]['rmid']\n",
    "    thisTskRelations = tasks[tskey]['rmtsk'].relations\n",
    "    thisTskInputRelations = list(filter(lambda x: x.issue_to_id == thisTskRmId and x.relation_type=='precedes', thisTskRelations))\n",
    "    print(\"Preexistent:\", thisTskInputRelations)\n",
    "    for rel in thisTskInputRelations:\n",
    "        # La relación está a punto de ser añadida, cancelamos su creación\n",
    "        if rel.issue_to_id in tasks[tskey]['rmdep']:\n",
    "            tasks[tskey]['rmdep'].remove(rel.issue_to_id)\n",
    "            print(\"En\",tskey,\"Borro\",rel.issue_to_id,\"de\",tasks[tskey]['rmdep'])\n",
    "\n",
    "        if rel.issue_to_id in tasks[tskey]['rmotherdep']:\n",
    "            tasks[tskey]['rmotherdep'].remove(rel.issue_to_id)\n",
    "            print(\"En\",tskey,\"Borro\",rel.issue_to_id,\"de\",tasks[tskey]['rmotherdep'])               \n",
    "        \n",
    "        else:\n",
    "            # La relación ya no existe, hay que borrarla\n",
    "            redmine.issue_relation.delete(rel.id)\n",
    "            \n",
    "    # Ahora añadimos las relaciones restantes\n",
    "    for relId in tasks[tskey]['rmdep']:\n",
    "        rel = redmine.issue_relation.create(\n",
    "            issue_id=relId,\n",
    "            issue_to_id=thisTskRmId,\n",
    "            relation_type='precedes',\n",
    "            delay=0\n",
    "        )\n",
    "\n",
    "            \n"
   ]
  },
  {
   "cell_type": "code",
   "execution_count": null,
   "metadata": {},
   "outputs": [],
   "source": [
    "# Ahora buscamos las dependencias ya existentes en el Redmine y las restamos de las relaciones a añadir\n",
    "for tskey in tasks.keys():\n",
    "    print(\"id\",tskey,tasks[tskey]['otherdep'],tasks[tskey]['rmotherdep'])\n",
    "    thisTskRmId = tasks[tskey]['rmid']            \n",
    "    # Ahora añadimos las relaciones restantes\n",
    "    for relId in tasks[tskey]['rmotherdep']:\n",
    "        rel = redmine.issue_relation.create(\n",
    "            issue_id=relId,\n",
    "            issue_to_id=thisTskRmId,\n",
    "            relation_type='precedes',\n",
    "            delay=0\n",
    "        )\n"
   ]
  },
  {
   "cell_type": "code",
   "execution_count": null,
   "metadata": {},
   "outputs": [],
   "source": [
    "members = my_project.memberships\n",
    "team = {}\n",
    "for m in members:\n",
    "    thisUser = redmine.user.get(m.user.id)\n",
    "    team[thisUser.login] = thisUser\n",
    "    \n",
    "print(team.keys())\n"
   ]
  },
  {
   "cell_type": "code",
   "execution_count": null,
   "metadata": {},
   "outputs": [],
   "source": [
    "if (cfg_enable_duration):    \n",
    "    for tskey in tasks.keys():\n",
    "        if 'duration' in tasks[tskey].keys():\n",
    "            #print(\"------------>\",tasks[tskey]['duration'])\n",
    "            tasks[tskey]['rmtsk'].estimated_hours = tasks[tskey]['duration']\n",
    "            tasks[tskey]['rmtsk'].save()\n"
   ]
  },
  {
   "cell_type": "code",
   "execution_count": null,
   "metadata": {},
   "outputs": [],
   "source": [
    "if (cfg_enable_assignee):\n",
    "    for tskey in tasks.keys():\n",
    "        print(tasks[tskey].keys())\n",
    "        print(tasks[tskey]['ident'])\n",
    "        if ('assignee' in tasks[tskey].keys()):\n",
    "            print(tasks[tskey]['assignee'])\n",
    "            tasks[tskey]['rmtsk'].assigned_to_id = team[tasks[tskey]['assignee']].id\n",
    "            print(tasks[tskey]['rmtsk'])\n",
    "            tasks[tskey]['rmtsk'].save()"
   ]
  },
  {
   "cell_type": "code",
   "execution_count": null,
   "metadata": {},
   "outputs": [],
   "source": [
    "if (cfg_enable_collaborators):\n",
    "    for tskey in tasks.keys():\n",
    "        if ('collaborators' in tasks[tskey].keys()):\n",
    "            odsCollaborators = tasks[tskey]['collaborators']\n",
    "            print(\"collaborators\",tskey,odsCollaborators)\n",
    "            rmCollaborators = []\n",
    "            for col in odsCollaborators:\n",
    "                if (col != ''):\n",
    "                    colRmId = team[col].id\n",
    "                    print(team[col].login)\n",
    "                    rmCollaborators.append(colRmId)\n",
    "\n",
    "            print(rmCollaborators)\n",
    "            tasks[tskey]['rmcol'] = rmCollaborators\n",
    "            collabCf = tasks[tskey]['rmtsk'].custom_fields.get(rm_cfield_collaborators).value\n",
    "            print(collabCf)\n",
    "            redmine.issue.update(resource_id=tasks[tskey]['rmtsk'].id,\n",
    "                                 custom_fields=[{'id': rm_cfield_collaborators,'value': rmCollaborators}]\n",
    "                                )\n"
   ]
  },
  {
   "cell_type": "code",
   "execution_count": null,
   "metadata": {},
   "outputs": [],
   "source": [
    "for tskey in tasks.keys():\n",
    "    depstr = ','.join(map(str,tasks[tskey]['rmdep']))\n",
    "    print(depstr)\n",
    "    depCf = tasks[tskey]['rmtsk'].custom_fields.get(rm_cfield_dep).value\n",
    "    print(depCf)\n",
    "    redmine.issue.update(resource_id=tasks[tskey]['rmtsk'].id,\n",
    "                         custom_fields=[{'id': rm_cfield_dep,'value': depstr}]\n",
    "                        )\n",
    "\n"
   ]
  },
  {
   "cell_type": "code",
   "execution_count": null,
   "metadata": {},
   "outputs": [],
   "source": [
    "print(\"done\")"
   ]
  },
  {
   "cell_type": "code",
   "execution_count": null,
   "metadata": {},
   "outputs": [],
   "source": []
  },
  {
   "cell_type": "code",
   "execution_count": null,
   "metadata": {},
   "outputs": [],
   "source": []
  }
 ],
 "metadata": {
  "kernelspec": {
   "display_name": "Python 3",
   "language": "python",
   "name": "python3"
  },
  "language_info": {
   "codemirror_mode": {
    "name": "ipython",
    "version": 3
   },
   "file_extension": ".py",
   "mimetype": "text/x-python",
   "name": "python",
   "nbconvert_exporter": "python",
   "pygments_lexer": "ipython3",
   "version": "3.8.2"
  }
 },
 "nbformat": 4,
 "nbformat_minor": 4
}
