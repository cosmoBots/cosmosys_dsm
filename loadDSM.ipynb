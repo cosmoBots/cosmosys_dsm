{
 "cells": [
  {
   "cell_type": "code",
   "execution_count": 1,
   "metadata": {},
   "outputs": [],
   "source": [
    "cfg_id_column = 0\n",
    "cfg_title_column = 2\n",
    "cfg_description_column = 13\n",
    "cfg_depend_column = 4\n",
    "cfg_first_valid_row = 1\n",
    "cfg_project_prefix_cfid = 21\n",
    "cfg_rmtracker_id = 3\n",
    "cfg_rmtitle_cfid = 16\n",
    "cfg_enable_duration = True\n",
    "cfg_enable_assignee = True\n",
    "cfg_duration_column = 9\n",
    "cfg_assignee_column = 11\n",
    "cfg_enable_collaborators = True\n",
    "cfg_collaborators_column = 12\n",
    "cfg_enable_workload = True\n",
    "cfg_workload_column = 10\n",
    "cfg_enable_otherdep = True\n",
    "cfg_otherdep_column = 5\n",
    "cfg_enable_startdate = True\n",
    "cfg_startdate_column = 14"
   ]
  },
  {
   "cell_type": "code",
   "execution_count": 2,
   "metadata": {},
   "outputs": [],
   "source": [
    "import sys\n",
    "from collections import OrderedDict\n",
    "from pyexcel_ods import get_data\n",
    "from config_rm import *\n",
    "from redminelib import Redmine"
   ]
  },
  {
   "cell_type": "code",
   "execution_count": 4,
   "metadata": {},
   "outputs": [],
   "source": [
    "if ignore_cert:\n",
    "    redmine = Redmine(rm_server_url,key=rm_key_txt, requests={'verify': False})\n",
    "else:\n",
    "    redmine = Redmine(rm_server_url,key=rm_key_txt)\n",
    "\n",
    "projects = redmine.project.all()"
   ]
  },
  {
   "cell_type": "code",
   "execution_count": 5,
   "metadata": {},
   "outputs": [
    {
     "output_type": "stream",
     "name": "stdout",
     "text": [
      "Proyectos:\n",
      "C:\\Users\\Txinto Vaz\\AppData\\Roaming\\Python\\Python38\\site-packages\\urllib3\\connectionpool.py:979: InsecureRequestWarning: Unverified HTTPS request is being made to host 'minero.ll.iac.es'. Adding certificate verification is strongly advised. See: https://urllib3.readthedocs.io/en/latest/advanced-usage.html#ssl-warnings\n",
      "  warnings.warn(\n",
      "C:\\Users\\Txinto Vaz\\AppData\\Roaming\\Python\\Python38\\site-packages\\urllib3\\connectionpool.py:979: InsecureRequestWarning: Unverified HTTPS request is being made to host 'minero.ll.iac.es'. Adding certificate verification is strongly advised. See: https://urllib3.readthedocs.io/en/latest/advanced-usage.html#ssl-warnings\n",
      "  warnings.warn(\n",
      "\t est  \t|  EST\n",
      "\t gris-gregor  \t|  GRIS@GREGOR\n",
      "\t datalog  \t|  Datalog\n",
      "\t datalogger-update  \t|  Actualización datalogger GRIS \n",
      "\t licit-20-006  \t|  LICIT 20-006\n",
      "\t mical  \t|  MICAL\n",
      "\t mcao-bench  \t|  MCAO-Bench\n",
      "\t mcao-aiv  \t|  MCAO-AIV\n",
      "\t mical-gris  \t|  MICAL-GRIS\n",
      "\t solarnet-ifu  \t|  Solarnet IFU\n",
      "\t sw-tools  \t|  SW Tools\n",
      "\t pm-tool  \t|  PM tool\n",
      "\t team  \t|  Team\n",
      "Obtenemos proyecto:  mical-gris  |  MICAL-GRIS\n"
     ]
    }
   ],
   "source": [
    "print(\"Proyectos:\")\n",
    "for p in projects:\n",
    "    print (\"\\t\",p.identifier,\" \\t| \",p.name)\n",
    "\n",
    "my_project = redmine.project.get(rm_project_id_str)\n",
    "print (\"Obtenemos proyecto: \",my_project.identifier,\" | \",my_project.name)"
   ]
  },
  {
   "cell_type": "markdown",
   "metadata": {},
   "source": [
    "Ahora procedemos a cargar el fichero"
   ]
  },
  {
   "cell_type": "code",
   "execution_count": 6,
   "metadata": {},
   "outputs": [
    {
     "output_type": "stream",
     "name": "stdout",
     "text": [
      "file loaded\n"
     ]
    }
   ],
   "source": [
    "file_path = \"input_dsm.ods\"\n",
    "data = get_data(file_path)['_RqDep']\n",
    "tasks = {}\n",
    "print(\"file loaded\")"
   ]
  },
  {
   "cell_type": "code",
   "execution_count": 7,
   "metadata": {},
   "outputs": [
    {
     "output_type": "stream",
     "name": "stdout",
     "text": [
      "A20\nassignee: |fgperez|\ncollaborators: |horacio[50] sregalado[50]|\n['horacio[50]', 'sregalado[50]']\nA22\nassignee: |fgperez|\ncollaborators: |carlosd[90] sregalado[90]|\n['carlosd[90]', 'sregalado[90]']\nA61\nassignee: |sregalado|\ncollaborators: |horacio[25] jquintero[50]|\n['horacio[25]', 'jquintero[50]']\nA21\nassignee: |sregalado|\ncollaborators: |horacio[25] jquintero[50]|\n['horacio[25]', 'jquintero[50]']\nA23\nassignee: |carlosd|\ncollaborators: |horacio[25] sregalado[90] jquintero[50]|\n['horacio[25]', 'sregalado[90]', 'jquintero[50]']\n"
     ]
    }
   ],
   "source": [
    "i = 0\n",
    "tasks = {}\n",
    "for row in data:\n",
    "    # Let's skip the first row\n",
    "    if (i >= cfg_first_valid_row):\n",
    "        thisTsk = {}\n",
    "        if (len(row) > cfg_title_column) and (len(row[cfg_title_column]) > 0):\n",
    "            thisTsk['rmid'] = 0\n",
    "            thisTsk['rmident'] = ''\n",
    "            thisTsk['row'] = i\n",
    "            thisTsk['ident'] = row[cfg_id_column].strip()\n",
    "            thisTsk['title'] = row[cfg_title_column].strip()\n",
    "            if (len(row) > cfg_description_column):\n",
    "                thisTsk['description'] = row[cfg_description_column].strip()\n",
    "            else:\n",
    "                thisTsk['description'] = None\n",
    "            thisTsk['dependences'] = []\n",
    "            if (len(row) > cfg_depend_column):\n",
    "                tmp = row[cfg_depend_column].strip()\n",
    "                if (tmp != ''):\n",
    "                    thisTsk['dependences'] = tmp.split(' ')\n",
    "                                \n",
    "            if (cfg_enable_otherdep):\n",
    "                thisTsk['otherdep'] = []\n",
    "                if (len(row) > cfg_otherdep_column):\n",
    "                    tmp = row[cfg_otherdep_column].strip()\n",
    "                    if (tmp != ''):\n",
    "                        thisTsk['otherdep'] = tmp.split(' ')\n",
    "            \n",
    "            #print(thisTsk)\n",
    "            tasks[thisTsk['ident']] = thisTsk\n",
    "            print(thisTsk['ident'])\n",
    "            \n",
    "            if (cfg_enable_duration):\n",
    "                if (len(row) > cfg_duration_column):\n",
    "                    tmp = row[cfg_duration_column]\n",
    "                    if (tmp is not None) and (tmp != ''):\n",
    "                        thisTsk['duration'] = tmp\n",
    "                    \n",
    "            if (cfg_enable_assignee):\n",
    "                if (len(row) > cfg_assignee_column):\n",
    "                    tmp = row[cfg_assignee_column].strip()\n",
    "                    if (tmp is not None) and (tmp != ''):\n",
    "                        print(\"assignee: |\"+tmp+\"|\")\n",
    "                        thisTsk['assignee'] = tmp\n",
    "\n",
    "            if (cfg_enable_startdate):\n",
    "                if (len(row) > cfg_startdate_column):\n",
    "                    tmp = row[cfg_startdate_column]\n",
    "                    if (tmp is not None) and (tmp != ''):\n",
    "                        print(\"start date: |\"+str(tmp)+\"|\")\n",
    "                        thisTsk['startdate'] = tmp\n",
    "\n",
    "            if (cfg_enable_workload):\n",
    "                if (len(row) > cfg_workload_column):\n",
    "                    tmp = row[cfg_workload_column]\n",
    "                    if (tmp is not None) and (tmp != ''):\n",
    "                        thisTsk['workload'] = tmp                        \n",
    "                    \n",
    "                        \n",
    "            if (cfg_enable_collaborators):\n",
    "                thisTsk['collaborators'] = []\n",
    "                if (len(row) > cfg_collaborators_column):\n",
    "                    tmp = row[cfg_collaborators_column].lower().strip()\n",
    "                    if (tmp is not None) and (tmp != ''):\n",
    "                        print(\"collaborators: |\"+tmp+\"|\")\n",
    "                        thisTsk['collaborators'] = tmp.split(' ')\n",
    "                        \n",
    "                print(thisTsk['collaborators'])\n",
    "\n",
    "\n",
    "    \n",
    "    i += 1\n",
    "    \n"
   ]
  },
  {
   "cell_type": "code",
   "execution_count": 8,
   "metadata": {},
   "outputs": [
    {
     "output_type": "stream",
     "name": "stdout",
     "text": [
      "dict_keys(['A20', 'A22', 'A61', 'A21', 'A23'])\n"
     ]
    }
   ],
   "source": [
    "print(tasks.keys())"
   ]
  },
  {
   "cell_type": "markdown",
   "metadata": {},
   "source": [
    "Vamos a buscar las mismas tareas al Redmine, si es posible encontrarlas"
   ]
  },
  {
   "cell_type": "code",
   "execution_count": 9,
   "metadata": {},
   "outputs": [
    {
     "output_type": "stream",
     "name": "stdout",
     "text": [
      "{'A20': {'rmid': 0, 'rmident': '', 'row': 1, 'ident': 'A20', 'title': 'Montaje Cámara 770 en AIV', 'description': 'Montaje de la cámara de 770nm en AIV para poder validarla, incluyendo otros elementos del banco de pruebas.', 'dependences': [], 'otherdep': [], 'duration': 24, 'assignee': 'fgperez', 'workload': 90, 'collaborators': ['horacio[50]', 'sregalado[50]']}, 'A22': {'rmid': 0, 'rmident': '', 'row': 2, 'ident': 'A22', 'title': 'Montaje de Cámara 770 + montura en GREGOR', 'description': 'Montaje de la cámara de 770nm en GREGOR, incluyendo montura.  Alineado de la cámara incluído, y conjunto de elementos necesarios para hacer una toma de imágenes individuales en 770nm con la red de difracción nueva.', 'dependences': ['A21'], 'otherdep': [], 'duration': 8, 'assignee': 'fgperez', 'workload': 90, 'collaborators': ['carlosd[90]', 'sregalado[90]']}, 'A61': {'rmid': 0, 'rmident': '', 'row': 3, 'ident': 'A61', 'title': 'Prueba de Cámara 770 + Polarímetro 650-1032 en AIV', 'description': 'En el caso de que sea posible por calendario, validación del polarímetro incluyendo adquisición de imágenes con la cámara de 852nm.', 'dependences': ['A21'], 'otherdep': [], 'duration': 16, 'assignee': 'sregalado', 'workload': 90, 'collaborators': ['horacio[25]', 'jquintero[50]']}, 'A21': {'rmid': 0, 'rmident': '', 'row': 4, 'ident': 'A21', 'title': 'Pruebas Cámara 770 en AIV', 'description': 'Pruebas de validación de la cámara de 770nm incluyendo software (driver), montura y resto de elementos del banco de pruebas.', 'dependences': ['A20'], 'otherdep': [], 'duration': 40, 'assignee': 'sregalado', 'workload': 90, 'collaborators': ['horacio[25]', 'jquintero[50]']}, 'A23': {'rmid': 0, 'rmident': '', 'row': 5, 'ident': 'A23', 'title': 'Pruebas Cámara 770 en GREGOR', 'description': 'Pruebas de integración de la cámara 770nm en GREGOR, incluyendo montura, sobre mclGRIS con la red nueva montada.  Validación de la toma de imágenes individuales en 770nm, no incluye sincronismo con otra cámara.', 'dependences': ['A22'], 'otherdep': [], 'duration': 24, 'assignee': 'carlosd', 'workload': 90, 'collaborators': ['horacio[25]', 'sregalado[90]', 'jquintero[50]']}}\n"
     ]
    }
   ],
   "source": [
    "print(tasks)"
   ]
  },
  {
   "cell_type": "code",
   "execution_count": 10,
   "metadata": {},
   "outputs": [
    {
     "output_type": "stream",
     "name": "stdout",
     "text": [
      "Tarea nueva A20\n",
      "C:\\Users\\Txinto Vaz\\AppData\\Roaming\\Python\\Python38\\site-packages\\urllib3\\connectionpool.py:979: InsecureRequestWarning: Unverified HTTPS request is being made to host 'minero.ll.iac.es'. Adding certificate verification is strongly advised. See: https://urllib3.readthedocs.io/en/latest/advanced-usage.html#ssl-warnings\n",
      "  warnings.warn(\n",
      "Tarea nueva A22\n",
      "C:\\Users\\Txinto Vaz\\AppData\\Roaming\\Python\\Python38\\site-packages\\urllib3\\connectionpool.py:979: InsecureRequestWarning: Unverified HTTPS request is being made to host 'minero.ll.iac.es'. Adding certificate verification is strongly advised. See: https://urllib3.readthedocs.io/en/latest/advanced-usage.html#ssl-warnings\n",
      "  warnings.warn(\n",
      "C:\\Users\\Txinto Vaz\\AppData\\Roaming\\Python\\Python38\\site-packages\\urllib3\\connectionpool.py:979: InsecureRequestWarning: Unverified HTTPS request is being made to host 'minero.ll.iac.es'. Adding certificate verification is strongly advised. See: https://urllib3.readthedocs.io/en/latest/advanced-usage.html#ssl-warnings\n",
      "  warnings.warn(\n",
      "Tarea nueva A61\n",
      "Tarea nueva A21\n",
      "C:\\Users\\Txinto Vaz\\AppData\\Roaming\\Python\\Python38\\site-packages\\urllib3\\connectionpool.py:979: InsecureRequestWarning: Unverified HTTPS request is being made to host 'minero.ll.iac.es'. Adding certificate verification is strongly advised. See: https://urllib3.readthedocs.io/en/latest/advanced-usage.html#ssl-warnings\n",
      "  warnings.warn(\n",
      "Tarea nueva A23\n",
      "C:\\Users\\Txinto Vaz\\AppData\\Roaming\\Python\\Python38\\site-packages\\urllib3\\connectionpool.py:979: InsecureRequestWarning: Unverified HTTPS request is being made to host 'minero.ll.iac.es'. Adding certificate verification is strongly advised. See: https://urllib3.readthedocs.io/en/latest/advanced-usage.html#ssl-warnings\n",
      "  warnings.warn(\n"
     ]
    }
   ],
   "source": [
    "# Buscamos el prefijo del proyecto\n",
    "prjPrefix = my_project.identifier\n",
    "lenPrjPrefix = len(prjPrefix)\n",
    "# Recorreremos los identificadores de las tareas cargadas del ODS para ver si alguno se corresponde con un identificador válido de proyecto\n",
    "for tskey in tasks.keys():\n",
    "    thisRmTsk = None\n",
    "    print(\"Tarea nueva\",tskey)\n",
    "    thisRmTsk = redmine.issue.create(project_id = my_project.id,\n",
    "        tracker_id = cfg_rmtracker_id,\n",
    "        description = tasks[tskey]['description'],\n",
    "        subject = tasks[tskey]['title']\n",
    "    )\n",
    "    tasks[tskey]['rmid'] = thisRmTsk.id\n",
    "    tasks[tskey]['rmtsk'] = thisRmTsk\n"
   ]
  },
  {
   "cell_type": "code",
   "execution_count": 11,
   "metadata": {},
   "outputs": [
    {
     "output_type": "stream",
     "name": "stdout",
     "text": [
      "['created_on', 'description', 'enabled_modules', 'files', 'homepage', 'id', 'identifier', 'inherit_members', 'is_public', 'issue_categories', 'issues', 'memberships', 'name', 'news', 'parent', 'status', 'time_entries', 'time_entry_activities', 'trackers', 'updated_on', 'versions', 'wiki_pages']\n"
     ]
    }
   ],
   "source": [
    "print(dir(my_project))"
   ]
  },
  {
   "cell_type": "code",
   "execution_count": 12,
   "metadata": {},
   "outputs": [
    {
     "output_type": "stream",
     "name": "stdout",
     "text": [
      "id A20 rmident 1290\nid A22 rmident 1291\nid A61 rmident 1292\nid A21 rmident 1293\nid A23 rmident 1294\n"
     ]
    }
   ],
   "source": [
    "for tskey in tasks.keys():\n",
    "    print(\"id\",tskey,\"rmident\",tasks[tskey]['rmid'])"
   ]
  },
  {
   "cell_type": "code",
   "execution_count": 13,
   "metadata": {},
   "outputs": [
    {
     "output_type": "stream",
     "name": "stdout",
     "text": [
      "id A20 []\nid A22 ['A21']\n1293\nid A61 ['A21']\n1293\nid A21 ['A20']\n1290\nid A23 ['A22']\n1291\n"
     ]
    }
   ],
   "source": [
    "# Recorreremos de nuevo los identificadores de las tareas cargadas del ODS para crear/modificar sus relaciones\n",
    "for tskey in tasks.keys():\n",
    "    odsDependences = tasks[tskey]['dependences']\n",
    "    print(\"id\",tskey,odsDependences)\n",
    "    rmDependences = []\n",
    "    for dpd in odsDependences:\n",
    "        if (dpd != ''):\n",
    "            thisRmId = tasks[dpd]['rmid']\n",
    "            print(thisRmId)\n",
    "            rmDependences.append(thisRmId)\n",
    "        \n",
    "    tasks[tskey]['rmdep'] = rmDependences\n",
    "    "
   ]
  },
  {
   "cell_type": "code",
   "execution_count": 14,
   "metadata": {},
   "outputs": [
    {
     "output_type": "stream",
     "name": "stdout",
     "text": [
      "id A20 []\nid A22 []\nid A61 []\nid A21 []\nid A23 []\n"
     ]
    }
   ],
   "source": [
    "if (cfg_enable_otherdep):\n",
    "    for tskey in tasks.keys():\n",
    "        odsOtherDep = tasks[tskey]['otherdep']\n",
    "        print(\"id\",tskey,odsOtherDep)\n",
    "        rmOtherDep = []\n",
    "        for dpd in odsOtherDep:\n",
    "            if (dpd != ''):\n",
    "                thisRmId = tasks[dpd]['rmid']\n",
    "                print(thisRmId)\n",
    "                rmOtherDep.append(thisRmId)\n",
    "\n",
    "        tasks[tskey]['rmotherdep'] = rmOtherDep    "
   ]
  },
  {
   "cell_type": "code",
   "execution_count": 15,
   "metadata": {},
   "outputs": [
    {
     "output_type": "stream",
     "name": "stdout",
     "text": [
      "id A20 [] []\n",
      "Preexistent: []\n",
      "id A22 ['A21'] [1293]\n",
      "Preexistent: []\n",
      "C:\\Users\\Txinto Vaz\\AppData\\Roaming\\Python\\Python38\\site-packages\\urllib3\\connectionpool.py:979: InsecureRequestWarning: Unverified HTTPS request is being made to host 'minero.ll.iac.es'. Adding certificate verification is strongly advised. See: https://urllib3.readthedocs.io/en/latest/advanced-usage.html#ssl-warnings\n",
      "  warnings.warn(\n",
      "C:\\Users\\Txinto Vaz\\AppData\\Roaming\\Python\\Python38\\site-packages\\urllib3\\connectionpool.py:979: InsecureRequestWarning: Unverified HTTPS request is being made to host 'minero.ll.iac.es'. Adding certificate verification is strongly advised. See: https://urllib3.readthedocs.io/en/latest/advanced-usage.html#ssl-warnings\n",
      "  warnings.warn(\n",
      "id A61 ['A21'] [1293]\n",
      "C:\\Users\\Txinto Vaz\\AppData\\Roaming\\Python\\Python38\\site-packages\\urllib3\\connectionpool.py:979: InsecureRequestWarning: Unverified HTTPS request is being made to host 'minero.ll.iac.es'. Adding certificate verification is strongly advised. See: https://urllib3.readthedocs.io/en/latest/advanced-usage.html#ssl-warnings\n",
      "  warnings.warn(\n",
      "C:\\Users\\Txinto Vaz\\AppData\\Roaming\\Python\\Python38\\site-packages\\urllib3\\connectionpool.py:979: InsecureRequestWarning: Unverified HTTPS request is being made to host 'minero.ll.iac.es'. Adding certificate verification is strongly advised. See: https://urllib3.readthedocs.io/en/latest/advanced-usage.html#ssl-warnings\n",
      "  warnings.warn(\n",
      "Preexistent: []\n",
      "id A21 ['A20'] [1290]\n",
      "C:\\Users\\Txinto Vaz\\AppData\\Roaming\\Python\\Python38\\site-packages\\urllib3\\connectionpool.py:979: InsecureRequestWarning: Unverified HTTPS request is being made to host 'minero.ll.iac.es'. Adding certificate verification is strongly advised. See: https://urllib3.readthedocs.io/en/latest/advanced-usage.html#ssl-warnings\n",
      "  warnings.warn(\n",
      "C:\\Users\\Txinto Vaz\\AppData\\Roaming\\Python\\Python38\\site-packages\\urllib3\\connectionpool.py:979: InsecureRequestWarning: Unverified HTTPS request is being made to host 'minero.ll.iac.es'. Adding certificate verification is strongly advised. See: https://urllib3.readthedocs.io/en/latest/advanced-usage.html#ssl-warnings\n",
      "  warnings.warn(\n",
      "Preexistent: []\n",
      "id A23 ['A22'] [1291]\n",
      "C:\\Users\\Txinto Vaz\\AppData\\Roaming\\Python\\Python38\\site-packages\\urllib3\\connectionpool.py:979: InsecureRequestWarning: Unverified HTTPS request is being made to host 'minero.ll.iac.es'. Adding certificate verification is strongly advised. See: https://urllib3.readthedocs.io/en/latest/advanced-usage.html#ssl-warnings\n",
      "  warnings.warn(\n",
      "C:\\Users\\Txinto Vaz\\AppData\\Roaming\\Python\\Python38\\site-packages\\urllib3\\connectionpool.py:979: InsecureRequestWarning: Unverified HTTPS request is being made to host 'minero.ll.iac.es'. Adding certificate verification is strongly advised. See: https://urllib3.readthedocs.io/en/latest/advanced-usage.html#ssl-warnings\n",
      "  warnings.warn(\n",
      "Preexistent: []\n",
      "C:\\Users\\Txinto Vaz\\AppData\\Roaming\\Python\\Python38\\site-packages\\urllib3\\connectionpool.py:979: InsecureRequestWarning: Unverified HTTPS request is being made to host 'minero.ll.iac.es'. Adding certificate verification is strongly advised. See: https://urllib3.readthedocs.io/en/latest/advanced-usage.html#ssl-warnings\n",
      "  warnings.warn(\n"
     ]
    }
   ],
   "source": [
    "# Ahora buscamos las dependencias ya existentes en el Redmine y las restamos de las relaciones a añadir\n",
    "for tskey in tasks.keys():\n",
    "    print(\"id\",tskey,tasks[tskey]['dependences'],tasks[tskey]['rmdep'])\n",
    "    thisTskRmId = tasks[tskey]['rmid']\n",
    "    thisTskRelations = tasks[tskey]['rmtsk'].relations\n",
    "    thisTskInputRelations = list(filter(lambda x: x.issue_to_id == thisTskRmId and x.relation_type=='precedes', thisTskRelations))\n",
    "    print(\"Preexistent:\", thisTskInputRelations)\n",
    "    for rel in thisTskInputRelations:\n",
    "        # La relación está a punto de ser añadida, cancelamos su creación\n",
    "        if rel.issue_to_id in tasks[tskey]['rmdep']:\n",
    "            tasks[tskey]['rmdep'].remove(rel.issue_to_id)\n",
    "            print(\"En\",tskey,\"Borro\",rel.issue_to_id,\"de\",tasks[tskey]['rmdep'])\n",
    "\n",
    "        if rel.issue_to_id in tasks[tskey]['rmotherdep']:\n",
    "            tasks[tskey]['rmotherdep'].remove(rel.issue_to_id)\n",
    "            print(\"En\",tskey,\"Borro\",rel.issue_to_id,\"de\",tasks[tskey]['rmotherdep'])               \n",
    "        \n",
    "        else:\n",
    "            # La relación ya no existe, hay que borrarla\n",
    "            redmine.issue_relation.delete(rel.id)\n",
    "            \n",
    "    # Ahora añadimos las relaciones restantes\n",
    "    for relId in tasks[tskey]['rmdep']:\n",
    "        rel = redmine.issue_relation.create(\n",
    "            issue_id=relId,\n",
    "            issue_to_id=thisTskRmId,\n",
    "            relation_type='precedes',\n",
    "            delay=0\n",
    "        )\n",
    "\n",
    "            \n"
   ]
  },
  {
   "cell_type": "code",
   "execution_count": 16,
   "metadata": {},
   "outputs": [
    {
     "output_type": "stream",
     "name": "stdout",
     "text": [
      "id A20 [] []\nid A22 [] []\nid A61 [] []\nid A21 [] []\nid A23 [] []\n"
     ]
    }
   ],
   "source": [
    "# Ahora buscamos las dependencias ya existentes en el Redmine y las restamos de las relaciones a añadir\n",
    "for tskey in tasks.keys():\n",
    "    print(\"id\",tskey,tasks[tskey]['otherdep'],tasks[tskey]['rmotherdep'])\n",
    "    thisTskRmId = tasks[tskey]['rmid']            \n",
    "    # Ahora añadimos las relaciones restantes\n",
    "    for relId in tasks[tskey]['rmotherdep']:\n",
    "        rel = redmine.issue_relation.create(\n",
    "            issue_id=relId,\n",
    "            issue_to_id=thisTskRmId,\n",
    "            relation_type='precedes',\n",
    "            delay=0\n",
    "        )\n"
   ]
  },
  {
   "cell_type": "code",
   "execution_count": 17,
   "metadata": {},
   "outputs": [
    {
     "output_type": "stream",
     "name": "stderr",
     "text": [
      "C:\\Users\\Txinto Vaz\\AppData\\Roaming\\Python\\Python38\\site-packages\\urllib3\\connectionpool.py:979: InsecureRequestWarning: Unverified HTTPS request is being made to host 'minero.ll.iac.es'. Adding certificate verification is strongly advised. See: https://urllib3.readthedocs.io/en/latest/advanced-usage.html#ssl-warnings\n",
      "  warnings.warn(\n",
      "C:\\Users\\Txinto Vaz\\AppData\\Roaming\\Python\\Python38\\site-packages\\urllib3\\connectionpool.py:979: InsecureRequestWarning: Unverified HTTPS request is being made to host 'minero.ll.iac.es'. Adding certificate verification is strongly advised. See: https://urllib3.readthedocs.io/en/latest/advanced-usage.html#ssl-warnings\n",
      "  warnings.warn(\n",
      "C:\\Users\\Txinto Vaz\\AppData\\Roaming\\Python\\Python38\\site-packages\\urllib3\\connectionpool.py:979: InsecureRequestWarning: Unverified HTTPS request is being made to host 'minero.ll.iac.es'. Adding certificate verification is strongly advised. See: https://urllib3.readthedocs.io/en/latest/advanced-usage.html#ssl-warnings\n",
      "  warnings.warn(\n",
      "C:\\Users\\Txinto Vaz\\AppData\\Roaming\\Python\\Python38\\site-packages\\urllib3\\connectionpool.py:979: InsecureRequestWarning: Unverified HTTPS request is being made to host 'minero.ll.iac.es'. Adding certificate verification is strongly advised. See: https://urllib3.readthedocs.io/en/latest/advanced-usage.html#ssl-warnings\n",
      "  warnings.warn(\n",
      "C:\\Users\\Txinto Vaz\\AppData\\Roaming\\Python\\Python38\\site-packages\\urllib3\\connectionpool.py:979: InsecureRequestWarning: Unverified HTTPS request is being made to host 'minero.ll.iac.es'. Adding certificate verification is strongly advised. See: https://urllib3.readthedocs.io/en/latest/advanced-usage.html#ssl-warnings\n",
      "  warnings.warn(\n",
      "C:\\Users\\Txinto Vaz\\AppData\\Roaming\\Python\\Python38\\site-packages\\urllib3\\connectionpool.py:979: InsecureRequestWarning: Unverified HTTPS request is being made to host 'minero.ll.iac.es'. Adding certificate verification is strongly advised. See: https://urllib3.readthedocs.io/en/latest/advanced-usage.html#ssl-warnings\n",
      "  warnings.warn(\n",
      "C:\\Users\\Txinto Vaz\\AppData\\Roaming\\Python\\Python38\\site-packages\\urllib3\\connectionpool.py:979: InsecureRequestWarning: Unverified HTTPS request is being made to host 'minero.ll.iac.es'. Adding certificate verification is strongly advised. See: https://urllib3.readthedocs.io/en/latest/advanced-usage.html#ssl-warnings\n",
      "  warnings.warn(\n",
      "C:\\Users\\Txinto Vaz\\AppData\\Roaming\\Python\\Python38\\site-packages\\urllib3\\connectionpool.py:979: InsecureRequestWarning: Unverified HTTPS request is being made to host 'minero.ll.iac.es'. Adding certificate verification is strongly advised. See: https://urllib3.readthedocs.io/en/latest/advanced-usage.html#ssl-warnings\n",
      "  warnings.warn(\n",
      "C:\\Users\\Txinto Vaz\\AppData\\Roaming\\Python\\Python38\\site-packages\\urllib3\\connectionpool.py:979: InsecureRequestWarning: Unverified HTTPS request is being made to host 'minero.ll.iac.es'. Adding certificate verification is strongly advised. See: https://urllib3.readthedocs.io/en/latest/advanced-usage.html#ssl-warnings\n",
      "  warnings.warn(\n",
      "C:\\Users\\Txinto Vaz\\AppData\\Roaming\\Python\\Python38\\site-packages\\urllib3\\connectionpool.py:979: InsecureRequestWarning: Unverified HTTPS request is being made to host 'minero.ll.iac.es'. Adding certificate verification is strongly advised. See: https://urllib3.readthedocs.io/en/latest/advanced-usage.html#ssl-warnings\n",
      "  warnings.warn(\n",
      "C:\\Users\\Txinto Vaz\\AppData\\Roaming\\Python\\Python38\\site-packages\\urllib3\\connectionpool.py:979: InsecureRequestWarning: Unverified HTTPS request is being made to host 'minero.ll.iac.es'. Adding certificate verification is strongly advised. See: https://urllib3.readthedocs.io/en/latest/advanced-usage.html#ssl-warnings\n",
      "  warnings.warn(\n",
      "C:\\Users\\Txinto Vaz\\AppData\\Roaming\\Python\\Python38\\site-packages\\urllib3\\connectionpool.py:979: InsecureRequestWarning: Unverified HTTPS request is being made to host 'minero.ll.iac.es'. Adding certificate verification is strongly advised. See: https://urllib3.readthedocs.io/en/latest/advanced-usage.html#ssl-warnings\n",
      "  warnings.warn(\n",
      "C:\\Users\\Txinto Vaz\\AppData\\Roaming\\Python\\Python38\\site-packages\\urllib3\\connectionpool.py:979: InsecureRequestWarning: Unverified HTTPS request is being made to host 'minero.ll.iac.es'. Adding certificate verification is strongly advised. See: https://urllib3.readthedocs.io/en/latest/advanced-usage.html#ssl-warnings\n",
      "  warnings.warn(\n",
      "C:\\Users\\Txinto Vaz\\AppData\\Roaming\\Python\\Python38\\site-packages\\urllib3\\connectionpool.py:979: InsecureRequestWarning: Unverified HTTPS request is being made to host 'minero.ll.iac.es'. Adding certificate verification is strongly advised. See: https://urllib3.readthedocs.io/en/latest/advanced-usage.html#ssl-warnings\n",
      "  warnings.warn(\n",
      "C:\\Users\\Txinto Vaz\\AppData\\Roaming\\Python\\Python38\\site-packages\\urllib3\\connectionpool.py:979: InsecureRequestWarning: Unverified HTTPS request is being made to host 'minero.ll.iac.es'. Adding certificate verification is strongly advised. See: https://urllib3.readthedocs.io/en/latest/advanced-usage.html#ssl-warnings\n",
      "  warnings.warn(\n",
      "C:\\Users\\Txinto Vaz\\AppData\\Roaming\\Python\\Python38\\site-packages\\urllib3\\connectionpool.py:979: InsecureRequestWarning: Unverified HTTPS request is being made to host 'minero.ll.iac.es'. Adding certificate verification is strongly advised. See: https://urllib3.readthedocs.io/en/latest/advanced-usage.html#ssl-warnings\n",
      "  warnings.warn(\n",
      "C:\\Users\\Txinto Vaz\\AppData\\Roaming\\Python\\Python38\\site-packages\\urllib3\\connectionpool.py:979: InsecureRequestWarning: Unverified HTTPS request is being made to host 'minero.ll.iac.es'. Adding certificate verification is strongly advised. See: https://urllib3.readthedocs.io/en/latest/advanced-usage.html#ssl-warnings\n",
      "  warnings.warn(\n",
      "C:\\Users\\Txinto Vaz\\AppData\\Roaming\\Python\\Python38\\site-packages\\urllib3\\connectionpool.py:979: InsecureRequestWarning: Unverified HTTPS request is being made to host 'minero.ll.iac.es'. Adding certificate verification is strongly advised. See: https://urllib3.readthedocs.io/en/latest/advanced-usage.html#ssl-warnings\n",
      "  warnings.warn(\n",
      "C:\\Users\\Txinto Vaz\\AppData\\Roaming\\Python\\Python38\\site-packages\\urllib3\\connectionpool.py:979: InsecureRequestWarning: Unverified HTTPS request is being made to host 'minero.ll.iac.es'. Adding certificate verification is strongly advised. See: https://urllib3.readthedocs.io/en/latest/advanced-usage.html#ssl-warnings\n",
      "  warnings.warn(\n",
      "dict_keys(['carlosd', 'fgperez', 'horacio', 'jquintero', 'txinto', 'mcv', 'mbarreto', 'amm', 'rll', 'sregalado', 'aescobar', 'contratacion', 'msanchez', 'nrodriguez', 'lisa', 'migueln', 'cqnoda', 'mical'])\n"
     ]
    }
   ],
   "source": [
    "members = my_project.memberships\n",
    "team = {}\n",
    "for m in members:\n",
    "    thisUser = redmine.user.get(m.user.id)\n",
    "    team[thisUser.login] = thisUser\n",
    "    \n",
    "print(team.keys())\n"
   ]
  },
  {
   "cell_type": "code",
   "execution_count": 18,
   "metadata": {},
   "outputs": [
    {
     "output_type": "stream",
     "name": "stderr",
     "text": [
      "C:\\Users\\Txinto Vaz\\AppData\\Roaming\\Python\\Python38\\site-packages\\urllib3\\connectionpool.py:979: InsecureRequestWarning: Unverified HTTPS request is being made to host 'minero.ll.iac.es'. Adding certificate verification is strongly advised. See: https://urllib3.readthedocs.io/en/latest/advanced-usage.html#ssl-warnings\n",
      "  warnings.warn(\n",
      "C:\\Users\\Txinto Vaz\\AppData\\Roaming\\Python\\Python38\\site-packages\\urllib3\\connectionpool.py:979: InsecureRequestWarning: Unverified HTTPS request is being made to host 'minero.ll.iac.es'. Adding certificate verification is strongly advised. See: https://urllib3.readthedocs.io/en/latest/advanced-usage.html#ssl-warnings\n",
      "  warnings.warn(\n",
      "C:\\Users\\Txinto Vaz\\AppData\\Roaming\\Python\\Python38\\site-packages\\urllib3\\connectionpool.py:979: InsecureRequestWarning: Unverified HTTPS request is being made to host 'minero.ll.iac.es'. Adding certificate verification is strongly advised. See: https://urllib3.readthedocs.io/en/latest/advanced-usage.html#ssl-warnings\n",
      "  warnings.warn(\n",
      "C:\\Users\\Txinto Vaz\\AppData\\Roaming\\Python\\Python38\\site-packages\\urllib3\\connectionpool.py:979: InsecureRequestWarning: Unverified HTTPS request is being made to host 'minero.ll.iac.es'. Adding certificate verification is strongly advised. See: https://urllib3.readthedocs.io/en/latest/advanced-usage.html#ssl-warnings\n",
      "  warnings.warn(\n",
      "C:\\Users\\Txinto Vaz\\AppData\\Roaming\\Python\\Python38\\site-packages\\urllib3\\connectionpool.py:979: InsecureRequestWarning: Unverified HTTPS request is being made to host 'minero.ll.iac.es'. Adding certificate verification is strongly advised. See: https://urllib3.readthedocs.io/en/latest/advanced-usage.html#ssl-warnings\n",
      "  warnings.warn(\n"
     ]
    }
   ],
   "source": [
    "if (cfg_enable_duration):    \n",
    "    for tskey in tasks.keys():\n",
    "        if 'duration' in tasks[tskey].keys():\n",
    "            #print(\"------------>\",tasks[tskey]['duration'])\n",
    "            tasks[tskey]['rmtsk'].estimated_hours = tasks[tskey]['duration']\n",
    "            tasks[tskey]['rmtsk'].save()\n"
   ]
  },
  {
   "cell_type": "code",
   "execution_count": 19,
   "metadata": {},
   "outputs": [
    {
     "output_type": "stream",
     "name": "stdout",
     "text": [
      "A20\n",
      "fgperez\n",
      "Montaje Cámara 770 en AIV\n",
      "A22\n",
      "fgperez\n",
      "Montaje de Cámara 770 + montura en GREGOR\n",
      "C:\\Users\\Txinto Vaz\\AppData\\Roaming\\Python\\Python38\\site-packages\\urllib3\\connectionpool.py:979: InsecureRequestWarning: Unverified HTTPS request is being made to host 'minero.ll.iac.es'. Adding certificate verification is strongly advised. See: https://urllib3.readthedocs.io/en/latest/advanced-usage.html#ssl-warnings\n",
      "  warnings.warn(\n",
      "C:\\Users\\Txinto Vaz\\AppData\\Roaming\\Python\\Python38\\site-packages\\urllib3\\connectionpool.py:979: InsecureRequestWarning: Unverified HTTPS request is being made to host 'minero.ll.iac.es'. Adding certificate verification is strongly advised. See: https://urllib3.readthedocs.io/en/latest/advanced-usage.html#ssl-warnings\n",
      "  warnings.warn(\n",
      "A61\n",
      "sregalado\n",
      "Prueba de Cámara 770 + Polarímetro 650-1032 en AIV\n",
      "A21\n",
      "sregalado\n",
      "Pruebas Cámara 770 en AIV\n",
      "C:\\Users\\Txinto Vaz\\AppData\\Roaming\\Python\\Python38\\site-packages\\urllib3\\connectionpool.py:979: InsecureRequestWarning: Unverified HTTPS request is being made to host 'minero.ll.iac.es'. Adding certificate verification is strongly advised. See: https://urllib3.readthedocs.io/en/latest/advanced-usage.html#ssl-warnings\n",
      "  warnings.warn(\n",
      "C:\\Users\\Txinto Vaz\\AppData\\Roaming\\Python\\Python38\\site-packages\\urllib3\\connectionpool.py:979: InsecureRequestWarning: Unverified HTTPS request is being made to host 'minero.ll.iac.es'. Adding certificate verification is strongly advised. See: https://urllib3.readthedocs.io/en/latest/advanced-usage.html#ssl-warnings\n",
      "  warnings.warn(\n",
      "A23\n",
      "carlosd\n",
      "Pruebas Cámara 770 en GREGOR\n",
      "C:\\Users\\Txinto Vaz\\AppData\\Roaming\\Python\\Python38\\site-packages\\urllib3\\connectionpool.py:979: InsecureRequestWarning: Unverified HTTPS request is being made to host 'minero.ll.iac.es'. Adding certificate verification is strongly advised. See: https://urllib3.readthedocs.io/en/latest/advanced-usage.html#ssl-warnings\n",
      "  warnings.warn(\n"
     ]
    }
   ],
   "source": [
    "if (cfg_enable_assignee):\n",
    "    for tskey in tasks.keys():\n",
    "        print(tasks[tskey]['ident'])\n",
    "        if ('assignee' in tasks[tskey].keys()):\n",
    "            print(tasks[tskey]['assignee'])\n",
    "            tasks[tskey]['rmtsk'].assigned_to_id = team[tasks[tskey]['assignee']].id\n",
    "            print(tasks[tskey]['rmtsk'])\n",
    "            tasks[tskey]['rmtsk'].save()"
   ]
  },
  {
   "cell_type": "code",
   "execution_count": 20,
   "metadata": {},
   "outputs": [
    {
     "output_type": "stream",
     "name": "stdout",
     "text": [
      "A20\nA22\nA61\nA21\nA23\n"
     ]
    }
   ],
   "source": [
    "import datetime\n",
    "\n",
    "if (cfg_enable_startdate):\n",
    "    for tskey in tasks.keys():\n",
    "        print(tasks[tskey]['ident'])\n",
    "        if ('startdate' in tasks[tskey].keys()):\n",
    "            print(tasks[tskey]['startdate'])\n",
    "            tasks[tskey]['rmtsk'].start_date = tasks[tskey]['startdate']\n",
    "            if (hasattr(tasks[tskey]['rmtsk'], 'due_date')):\n",
    "                if (tasks[tskey]['rmtsk'].due_date < tasks[tskey]['startdate']):\n",
    "                    tasks[tskey]['rmtsk'].due_date = tasks[tskey]['startdate']\n",
    "            else:\n",
    "                tasks[tskey]['rmtsk'].due_date = tasks[tskey]['startdate']\n",
    "\n",
    "            print(tasks[tskey]['rmtsk'],tasks[tskey]['rmtsk'].start_date,tasks[tskey]['rmtsk'].due_date)\n",
    "                \n",
    "            tasks[tskey]['rmtsk'].save()"
   ]
  },
  {
   "cell_type": "code",
   "execution_count": 21,
   "metadata": {},
   "outputs": [
    {
     "output_type": "stream",
     "name": "stdout",
     "text": [
      "\n",
      "\n",
      "90\n",
      "100\n",
      "1293\n",
      "\n",
      "90\n",
      "100\n",
      "C:\\Users\\Txinto Vaz\\AppData\\Roaming\\Python\\Python38\\site-packages\\urllib3\\connectionpool.py:979: InsecureRequestWarning: Unverified HTTPS request is being made to host 'minero.ll.iac.es'. Adding certificate verification is strongly advised. See: https://urllib3.readthedocs.io/en/latest/advanced-usage.html#ssl-warnings\n",
      "  warnings.warn(\n",
      "C:\\Users\\Txinto Vaz\\AppData\\Roaming\\Python\\Python38\\site-packages\\urllib3\\connectionpool.py:979: InsecureRequestWarning: Unverified HTTPS request is being made to host 'minero.ll.iac.es'. Adding certificate verification is strongly advised. See: https://urllib3.readthedocs.io/en/latest/advanced-usage.html#ssl-warnings\n",
      "  warnings.warn(\n",
      "1293\n",
      "\n",
      "90\n",
      "100\n",
      "1290\n",
      "\n",
      "90\n",
      "100\n",
      "C:\\Users\\Txinto Vaz\\AppData\\Roaming\\Python\\Python38\\site-packages\\urllib3\\connectionpool.py:979: InsecureRequestWarning: Unverified HTTPS request is being made to host 'minero.ll.iac.es'. Adding certificate verification is strongly advised. See: https://urllib3.readthedocs.io/en/latest/advanced-usage.html#ssl-warnings\n",
      "  warnings.warn(\n",
      "C:\\Users\\Txinto Vaz\\AppData\\Roaming\\Python\\Python38\\site-packages\\urllib3\\connectionpool.py:979: InsecureRequestWarning: Unverified HTTPS request is being made to host 'minero.ll.iac.es'. Adding certificate verification is strongly advised. See: https://urllib3.readthedocs.io/en/latest/advanced-usage.html#ssl-warnings\n",
      "  warnings.warn(\n",
      "1291\n",
      "\n",
      "90\n",
      "100\n",
      "C:\\Users\\Txinto Vaz\\AppData\\Roaming\\Python\\Python38\\site-packages\\urllib3\\connectionpool.py:979: InsecureRequestWarning: Unverified HTTPS request is being made to host 'minero.ll.iac.es'. Adding certificate verification is strongly advised. See: https://urllib3.readthedocs.io/en/latest/advanced-usage.html#ssl-warnings\n",
      "  warnings.warn(\n"
     ]
    }
   ],
   "source": [
    "for tskey in tasks.keys():\n",
    "    depstr = ','.join(map(str,tasks[tskey]['rmdep']))\n",
    "    print(depstr)\n",
    "    depCf = tasks[tskey]['rmtsk'].custom_fields.get(rm_cfield_dep).value\n",
    "    print(depCf)\n",
    "    if 'workload' not in tasks[tskey].keys():\n",
    "        tasks[tskey]['workload'] = 90\n",
    "        \n",
    "    wload = tasks[tskey]['workload']        \n",
    "    print(wload)\n",
    "    wloadCf = tasks[tskey]['rmtsk'].custom_fields.get(rm_cfield_wload).value\n",
    "    print(wloadCf)\n",
    "    redmine.issue.update(resource_id=tasks[tskey]['rmtsk'].id,\n",
    "                         custom_fields=[{'id': rm_cfield_dep,'value': depstr},{'id': rm_cfield_wload,'value': wload}]\n",
    "                        )\n"
   ]
  },
  {
   "cell_type": "code",
   "execution_count": 22,
   "metadata": {},
   "outputs": [
    {
     "output_type": "stream",
     "name": "stdout",
     "text": [
      "collaborators A20 ['horacio[50]', 'sregalado[50]']\n",
      "{'horacio': 50}\n",
      "horacio\n",
      "{'horacio': 50, 'sregalado': 50}\n",
      "sregalado\n",
      "[37, 50]\n",
      "[]\n",
      "C:\\Users\\Txinto Vaz\\AppData\\Roaming\\Python\\Python38\\site-packages\\urllib3\\connectionpool.py:979: InsecureRequestWarning: Unverified HTTPS request is being made to host 'minero.ll.iac.es'. Adding certificate verification is strongly advised. See: https://urllib3.readthedocs.io/en/latest/advanced-usage.html#ssl-warnings\n",
      "  warnings.warn(\n",
      "C:\\Users\\Txinto Vaz\\AppData\\Roaming\\Python\\Python38\\site-packages\\urllib3\\connectionpool.py:979: InsecureRequestWarning: Unverified HTTPS request is being made to host 'minero.ll.iac.es'. Adding certificate verification is strongly advised. See: https://urllib3.readthedocs.io/en/latest/advanced-usage.html#ssl-warnings\n",
      "  warnings.warn(\n",
      "C:\\Users\\Txinto Vaz\\AppData\\Roaming\\Python\\Python38\\site-packages\\urllib3\\connectionpool.py:979: InsecureRequestWarning: Unverified HTTPS request is being made to host 'minero.ll.iac.es'. Adding certificate verification is strongly advised. See: https://urllib3.readthedocs.io/en/latest/advanced-usage.html#ssl-warnings\n",
      "  warnings.warn(\n",
      "C:\\Users\\Txinto Vaz\\AppData\\Roaming\\Python\\Python38\\site-packages\\urllib3\\connectionpool.py:979: InsecureRequestWarning: Unverified HTTPS request is being made to host 'minero.ll.iac.es'. Adding certificate verification is strongly advised. See: https://urllib3.readthedocs.io/en/latest/advanced-usage.html#ssl-warnings\n",
      "  warnings.warn(\n",
      "collaborators A22 ['carlosd[90]', 'sregalado[90]']\n",
      "{'carlosd': 90}\n",
      "carlosd\n",
      "{'carlosd': 90, 'sregalado': 90}\n",
      "sregalado\n",
      "[34, 50]\n",
      "[]\n",
      "C:\\Users\\Txinto Vaz\\AppData\\Roaming\\Python\\Python38\\site-packages\\urllib3\\connectionpool.py:979: InsecureRequestWarning: Unverified HTTPS request is being made to host 'minero.ll.iac.es'. Adding certificate verification is strongly advised. See: https://urllib3.readthedocs.io/en/latest/advanced-usage.html#ssl-warnings\n",
      "  warnings.warn(\n",
      "C:\\Users\\Txinto Vaz\\AppData\\Roaming\\Python\\Python38\\site-packages\\urllib3\\connectionpool.py:979: InsecureRequestWarning: Unverified HTTPS request is being made to host 'minero.ll.iac.es'. Adding certificate verification is strongly advised. See: https://urllib3.readthedocs.io/en/latest/advanced-usage.html#ssl-warnings\n",
      "  warnings.warn(\n",
      "C:\\Users\\Txinto Vaz\\AppData\\Roaming\\Python\\Python38\\site-packages\\urllib3\\connectionpool.py:979: InsecureRequestWarning: Unverified HTTPS request is being made to host 'minero.ll.iac.es'. Adding certificate verification is strongly advised. See: https://urllib3.readthedocs.io/en/latest/advanced-usage.html#ssl-warnings\n",
      "  warnings.warn(\n",
      "C:\\Users\\Txinto Vaz\\AppData\\Roaming\\Python\\Python38\\site-packages\\urllib3\\connectionpool.py:979: InsecureRequestWarning: Unverified HTTPS request is being made to host 'minero.ll.iac.es'. Adding certificate verification is strongly advised. See: https://urllib3.readthedocs.io/en/latest/advanced-usage.html#ssl-warnings\n",
      "  warnings.warn(\n",
      "C:\\Users\\Txinto Vaz\\AppData\\Roaming\\Python\\Python38\\site-packages\\urllib3\\connectionpool.py:979: InsecureRequestWarning: Unverified HTTPS request is being made to host 'minero.ll.iac.es'. Adding certificate verification is strongly advised. See: https://urllib3.readthedocs.io/en/latest/advanced-usage.html#ssl-warnings\n",
      "  warnings.warn(\n",
      "C:\\Users\\Txinto Vaz\\AppData\\Roaming\\Python\\Python38\\site-packages\\urllib3\\connectionpool.py:979: InsecureRequestWarning: Unverified HTTPS request is being made to host 'minero.ll.iac.es'. Adding certificate verification is strongly advised. See: https://urllib3.readthedocs.io/en/latest/advanced-usage.html#ssl-warnings\n",
      "  warnings.warn(\n",
      "C:\\Users\\Txinto Vaz\\AppData\\Roaming\\Python\\Python38\\site-packages\\urllib3\\connectionpool.py:979: InsecureRequestWarning: Unverified HTTPS request is being made to host 'minero.ll.iac.es'. Adding certificate verification is strongly advised. See: https://urllib3.readthedocs.io/en/latest/advanced-usage.html#ssl-warnings\n",
      "  warnings.warn(\n",
      "C:\\Users\\Txinto Vaz\\AppData\\Roaming\\Python\\Python38\\site-packages\\urllib3\\connectionpool.py:979: InsecureRequestWarning: Unverified HTTPS request is being made to host 'minero.ll.iac.es'. Adding certificate verification is strongly advised. See: https://urllib3.readthedocs.io/en/latest/advanced-usage.html#ssl-warnings\n",
      "  warnings.warn(\n",
      "collaborators A61 ['horacio[25]', 'jquintero[50]']\n",
      "{'horacio': 25}\n",
      "horacio\n",
      "{'horacio': 25, 'jquintero': 50}\n",
      "jquintero\n",
      "[37, 31]\n",
      "[]\n",
      "C:\\Users\\Txinto Vaz\\AppData\\Roaming\\Python\\Python38\\site-packages\\urllib3\\connectionpool.py:979: InsecureRequestWarning: Unverified HTTPS request is being made to host 'minero.ll.iac.es'. Adding certificate verification is strongly advised. See: https://urllib3.readthedocs.io/en/latest/advanced-usage.html#ssl-warnings\n",
      "  warnings.warn(\n",
      "C:\\Users\\Txinto Vaz\\AppData\\Roaming\\Python\\Python38\\site-packages\\urllib3\\connectionpool.py:979: InsecureRequestWarning: Unverified HTTPS request is being made to host 'minero.ll.iac.es'. Adding certificate verification is strongly advised. See: https://urllib3.readthedocs.io/en/latest/advanced-usage.html#ssl-warnings\n",
      "  warnings.warn(\n",
      "C:\\Users\\Txinto Vaz\\AppData\\Roaming\\Python\\Python38\\site-packages\\urllib3\\connectionpool.py:979: InsecureRequestWarning: Unverified HTTPS request is being made to host 'minero.ll.iac.es'. Adding certificate verification is strongly advised. See: https://urllib3.readthedocs.io/en/latest/advanced-usage.html#ssl-warnings\n",
      "  warnings.warn(\n",
      "C:\\Users\\Txinto Vaz\\AppData\\Roaming\\Python\\Python38\\site-packages\\urllib3\\connectionpool.py:979: InsecureRequestWarning: Unverified HTTPS request is being made to host 'minero.ll.iac.es'. Adding certificate verification is strongly advised. See: https://urllib3.readthedocs.io/en/latest/advanced-usage.html#ssl-warnings\n",
      "  warnings.warn(\n",
      "C:\\Users\\Txinto Vaz\\AppData\\Roaming\\Python\\Python38\\site-packages\\urllib3\\connectionpool.py:979: InsecureRequestWarning: Unverified HTTPS request is being made to host 'minero.ll.iac.es'. Adding certificate verification is strongly advised. See: https://urllib3.readthedocs.io/en/latest/advanced-usage.html#ssl-warnings\n",
      "  warnings.warn(\n",
      "C:\\Users\\Txinto Vaz\\AppData\\Roaming\\Python\\Python38\\site-packages\\urllib3\\connectionpool.py:979: InsecureRequestWarning: Unverified HTTPS request is being made to host 'minero.ll.iac.es'. Adding certificate verification is strongly advised. See: https://urllib3.readthedocs.io/en/latest/advanced-usage.html#ssl-warnings\n",
      "  warnings.warn(\n",
      "C:\\Users\\Txinto Vaz\\AppData\\Roaming\\Python\\Python38\\site-packages\\urllib3\\connectionpool.py:979: InsecureRequestWarning: Unverified HTTPS request is being made to host 'minero.ll.iac.es'. Adding certificate verification is strongly advised. See: https://urllib3.readthedocs.io/en/latest/advanced-usage.html#ssl-warnings\n",
      "  warnings.warn(\n",
      "collaborators A21 ['horacio[25]', 'jquintero[50]']\n",
      "{'horacio': 25}\n",
      "horacio\n",
      "{'horacio': 25, 'jquintero': 50}\n",
      "jquintero\n",
      "[37, 31]\n",
      "[]\n",
      "C:\\Users\\Txinto Vaz\\AppData\\Roaming\\Python\\Python38\\site-packages\\urllib3\\connectionpool.py:979: InsecureRequestWarning: Unverified HTTPS request is being made to host 'minero.ll.iac.es'. Adding certificate verification is strongly advised. See: https://urllib3.readthedocs.io/en/latest/advanced-usage.html#ssl-warnings\n",
      "  warnings.warn(\n",
      "C:\\Users\\Txinto Vaz\\AppData\\Roaming\\Python\\Python38\\site-packages\\urllib3\\connectionpool.py:979: InsecureRequestWarning: Unverified HTTPS request is being made to host 'minero.ll.iac.es'. Adding certificate verification is strongly advised. See: https://urllib3.readthedocs.io/en/latest/advanced-usage.html#ssl-warnings\n",
      "  warnings.warn(\n",
      "C:\\Users\\Txinto Vaz\\AppData\\Roaming\\Python\\Python38\\site-packages\\urllib3\\connectionpool.py:979: InsecureRequestWarning: Unverified HTTPS request is being made to host 'minero.ll.iac.es'. Adding certificate verification is strongly advised. See: https://urllib3.readthedocs.io/en/latest/advanced-usage.html#ssl-warnings\n",
      "  warnings.warn(\n",
      "C:\\Users\\Txinto Vaz\\AppData\\Roaming\\Python\\Python38\\site-packages\\urllib3\\connectionpool.py:979: InsecureRequestWarning: Unverified HTTPS request is being made to host 'minero.ll.iac.es'. Adding certificate verification is strongly advised. See: https://urllib3.readthedocs.io/en/latest/advanced-usage.html#ssl-warnings\n",
      "  warnings.warn(\n",
      "C:\\Users\\Txinto Vaz\\AppData\\Roaming\\Python\\Python38\\site-packages\\urllib3\\connectionpool.py:979: InsecureRequestWarning: Unverified HTTPS request is being made to host 'minero.ll.iac.es'. Adding certificate verification is strongly advised. See: https://urllib3.readthedocs.io/en/latest/advanced-usage.html#ssl-warnings\n",
      "  warnings.warn(\n",
      "C:\\Users\\Txinto Vaz\\AppData\\Roaming\\Python\\Python38\\site-packages\\urllib3\\connectionpool.py:979: InsecureRequestWarning: Unverified HTTPS request is being made to host 'minero.ll.iac.es'. Adding certificate verification is strongly advised. See: https://urllib3.readthedocs.io/en/latest/advanced-usage.html#ssl-warnings\n",
      "  warnings.warn(\n",
      "C:\\Users\\Txinto Vaz\\AppData\\Roaming\\Python\\Python38\\site-packages\\urllib3\\connectionpool.py:979: InsecureRequestWarning: Unverified HTTPS request is being made to host 'minero.ll.iac.es'. Adding certificate verification is strongly advised. See: https://urllib3.readthedocs.io/en/latest/advanced-usage.html#ssl-warnings\n",
      "  warnings.warn(\n",
      "collaborators A23 ['horacio[25]', 'sregalado[90]', 'jquintero[50]']\n",
      "{'horacio': 25}\n",
      "horacio\n",
      "{'horacio': 25, 'sregalado': 90}\n",
      "sregalado\n",
      "{'horacio': 25, 'sregalado': 90, 'jquintero': 50}\n",
      "jquintero\n",
      "[37, 50, 31]\n",
      "[]\n",
      "C:\\Users\\Txinto Vaz\\AppData\\Roaming\\Python\\Python38\\site-packages\\urllib3\\connectionpool.py:979: InsecureRequestWarning: Unverified HTTPS request is being made to host 'minero.ll.iac.es'. Adding certificate verification is strongly advised. See: https://urllib3.readthedocs.io/en/latest/advanced-usage.html#ssl-warnings\n",
      "  warnings.warn(\n",
      "C:\\Users\\Txinto Vaz\\AppData\\Roaming\\Python\\Python38\\site-packages\\urllib3\\connectionpool.py:979: InsecureRequestWarning: Unverified HTTPS request is being made to host 'minero.ll.iac.es'. Adding certificate verification is strongly advised. See: https://urllib3.readthedocs.io/en/latest/advanced-usage.html#ssl-warnings\n",
      "  warnings.warn(\n",
      "C:\\Users\\Txinto Vaz\\AppData\\Roaming\\Python\\Python38\\site-packages\\urllib3\\connectionpool.py:979: InsecureRequestWarning: Unverified HTTPS request is being made to host 'minero.ll.iac.es'. Adding certificate verification is strongly advised. See: https://urllib3.readthedocs.io/en/latest/advanced-usage.html#ssl-warnings\n",
      "  warnings.warn(\n",
      "C:\\Users\\Txinto Vaz\\AppData\\Roaming\\Python\\Python38\\site-packages\\urllib3\\connectionpool.py:979: InsecureRequestWarning: Unverified HTTPS request is being made to host 'minero.ll.iac.es'. Adding certificate verification is strongly advised. See: https://urllib3.readthedocs.io/en/latest/advanced-usage.html#ssl-warnings\n",
      "  warnings.warn(\n",
      "C:\\Users\\Txinto Vaz\\AppData\\Roaming\\Python\\Python38\\site-packages\\urllib3\\connectionpool.py:979: InsecureRequestWarning: Unverified HTTPS request is being made to host 'minero.ll.iac.es'. Adding certificate verification is strongly advised. See: https://urllib3.readthedocs.io/en/latest/advanced-usage.html#ssl-warnings\n",
      "  warnings.warn(\n",
      "C:\\Users\\Txinto Vaz\\AppData\\Roaming\\Python\\Python38\\site-packages\\urllib3\\connectionpool.py:979: InsecureRequestWarning: Unverified HTTPS request is being made to host 'minero.ll.iac.es'. Adding certificate verification is strongly advised. See: https://urllib3.readthedocs.io/en/latest/advanced-usage.html#ssl-warnings\n",
      "  warnings.warn(\n",
      "C:\\Users\\Txinto Vaz\\AppData\\Roaming\\Python\\Python38\\site-packages\\urllib3\\connectionpool.py:979: InsecureRequestWarning: Unverified HTTPS request is being made to host 'minero.ll.iac.es'. Adding certificate verification is strongly advised. See: https://urllib3.readthedocs.io/en/latest/advanced-usage.html#ssl-warnings\n",
      "  warnings.warn(\n",
      "C:\\Users\\Txinto Vaz\\AppData\\Roaming\\Python\\Python38\\site-packages\\urllib3\\connectionpool.py:979: InsecureRequestWarning: Unverified HTTPS request is being made to host 'minero.ll.iac.es'. Adding certificate verification is strongly advised. See: https://urllib3.readthedocs.io/en/latest/advanced-usage.html#ssl-warnings\n",
      "  warnings.warn(\n"
     ]
    }
   ],
   "source": [
    "if (cfg_enable_collaborators):\n",
    "    for tskey in tasks.keys():\n",
    "        if ('collaborators' in tasks[tskey].keys()):\n",
    "            odsCollaborators = tasks[tskey]['collaborators']\n",
    "            print(\"collaborators\",tskey,odsCollaborators)\n",
    "            rmCollaborators = []\n",
    "            cptask = {}\n",
    "            for col in odsCollaborators:\n",
    "                if (col != ''):\n",
    "                    if '[' in col:\n",
    "                        colabtmp = col.split('[')\n",
    "                        colab = colabtmp[0]\n",
    "                        workload = int(colabtmp[1].split(']')[0])\n",
    "                        cptask[colab] = workload\n",
    "                        print(cptask)\n",
    "                    \n",
    "                    else:\n",
    "                        colab = col\n",
    "                    \n",
    "                    colRmId = team[colab].id\n",
    "                    print(team[colab].login)\n",
    "                    rmCollaborators.append(colRmId)\n",
    "\n",
    "            print(rmCollaborators)\n",
    "            tasks[tskey]['rmcol'] = rmCollaborators\n",
    "            collabCf = tasks[tskey]['rmtsk'].custom_fields.get(rm_cfield_collaborators).value\n",
    "            print(collabCf)\n",
    "            redmine.issue.update(resource_id=tasks[tskey]['rmtsk'].id,\n",
    "                                 custom_fields=[{'id': rm_cfield_collaborators,'value': rmCollaborators}]\n",
    "                                )\n",
    "            \n",
    "            if len(cptask.keys())>0:\n",
    "                wload = tasks[tskey]['workload']\n",
    "                # First we copy the issue as the first child\n",
    "                copiedTsk = redmine.issue.create(project_id = my_project.id,\n",
    "                    tracker_id = cfg_rmtracker_id,\n",
    "                    subject = tasks[tskey]['rmtsk'].subject,\n",
    "                    description = tasks[tskey]['rmtsk'].description,\n",
    "                    assigned_to_id = tasks[tskey]['rmtsk'].assigned_to_id,\n",
    "                    parent_issue_id = tasks[tskey]['rmtsk'].id,\n",
    "                    estimated_hours = tasks[tskey]['rmtsk'].estimated_hours,\n",
    "                    done_ratio = tasks[tskey]['rmtsk'].done_ratio,                                           \n",
    "                    custom_fields=[\n",
    "                            {'id': cfg_rmtitle_cfid,'value': tasks[tskey]['title']},{'id': rm_cfield_wload,'value': wload}\n",
    "                        ]\n",
    "                    )\n",
    "                # Ahora añadimos las relaciones restantes\n",
    "                for relId in tasks[tskey]['rmdep']+tasks[tskey]['rmotherdep']:\n",
    "                    rel = redmine.issue_relation.create(\n",
    "                        issue_id=relId,\n",
    "                        issue_to_id=copiedTsk.id,\n",
    "                        relation_type='precedes',\n",
    "                        delay=0\n",
    "                    )\n",
    "                \n",
    "                \n",
    "                # Then we proceed to do a copy for each \"other assignee in the collaborators list\"\n",
    "                for col in cptask.keys():\n",
    "                    wload = cptask[col]\n",
    "                    copiedTsk = redmine.issue.create(project_id = my_project.id,\n",
    "                        tracker_id = cfg_rmtracker_id,\n",
    "                        subject = tasks[tskey]['rmtsk'].subject,\n",
    "                        description = tasks[tskey]['rmtsk'].description,\n",
    "                        assigned_to_id = team[col].id,\n",
    "                        parent_issue_id = tasks[tskey]['rmtsk'].id,\n",
    "                        estimated_hours = tasks[tskey]['rmtsk'].estimated_hours,\n",
    "                        done_ratio = tasks[tskey]['rmtsk'].done_ratio,          \n",
    "                        custom_fields=[\n",
    "                                {'id': cfg_rmtitle_cfid,'value': tasks[tskey]['title']},{'id': rm_cfield_wload,'value': wload}\n",
    "                            ]\n",
    "                        )                \n",
    "\n",
    "                    # Ahora añadimos las relaciones restantes\n",
    "                    for relId in tasks[tskey]['rmdep']+tasks[tskey]['rmotherdep']:\n",
    "                        rel = redmine.issue_relation.create(\n",
    "                            issue_id=relId,\n",
    "                            issue_to_id=copiedTsk.id,\n",
    "                            relation_type='precedes',\n",
    "                            delay=0\n",
    "                        )\n",
    "\n"
   ]
  },
  {
   "cell_type": "code",
   "execution_count": 23,
   "metadata": {},
   "outputs": [
    {
     "output_type": "stream",
     "name": "stdout",
     "text": [
      "32\n"
     ]
    }
   ],
   "source": [
    "print(rm_cfield_wload)"
   ]
  },
  {
   "cell_type": "code",
   "execution_count": 24,
   "metadata": {},
   "outputs": [
    {
     "output_type": "stream",
     "name": "stdout",
     "text": [
      "done\n"
     ]
    }
   ],
   "source": [
    "print(\"done\")"
   ]
  },
  {
   "cell_type": "code",
   "execution_count": null,
   "metadata": {},
   "outputs": [],
   "source": []
  },
  {
   "cell_type": "code",
   "execution_count": null,
   "metadata": {},
   "outputs": [],
   "source": []
  },
  {
   "cell_type": "code",
   "execution_count": null,
   "metadata": {},
   "outputs": [],
   "source": []
  }
 ],
 "metadata": {
  "kernelspec": {
   "name": "python3",
   "display_name": "Python 3.8.2 64-bit",
   "metadata": {
    "interpreter": {
     "hash": "2db524e06e9f5f4ffedc911c917cb75e12dbc923643829bf417064a77eb14d37"
    }
   }
  },
  "language_info": {
   "codemirror_mode": {
    "name": "ipython",
    "version": 3
   },
   "file_extension": ".py",
   "mimetype": "text/x-python",
   "name": "python",
   "nbconvert_exporter": "python",
   "pygments_lexer": "ipython3",
   "version": "3.8.2-final"
  }
 },
 "nbformat": 4,
 "nbformat_minor": 4
}