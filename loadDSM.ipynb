{
 "cells": [
  {
   "cell_type": "code",
   "execution_count": null,
   "metadata": {},
   "outputs": [],
   "source": [
    "cfg_id_column = 0\n",
    "cfg_title_column = 2\n",
    "cfg_depend_column = 6\n",
    "cfg_first_valid_row = 1\n",
    "cfg_project_prefix_cfid = 21\n",
    "cfg_rmtracker_id = 3\n",
    "cfg_rmtitle_cfid = 16\n"
   ]
  },
  {
   "cell_type": "code",
   "execution_count": null,
   "metadata": {},
   "outputs": [],
   "source": [
    "import sys\n",
    "from collections import OrderedDict\n",
    "from pyexcel_ods import get_data\n",
    "from config_rm import *\n",
    "from redminelib import Redmine"
   ]
  },
  {
   "cell_type": "code",
   "execution_count": null,
   "metadata": {},
   "outputs": [],
   "source": [
    "redmine = Redmine(rm_server_url,key=rm_key_txt)\n",
    "projects = redmine.project.all()"
   ]
  },
  {
   "cell_type": "code",
   "execution_count": null,
   "metadata": {},
   "outputs": [],
   "source": [
    "print(\"Proyectos:\")\n",
    "for p in projects:\n",
    "    print (\"\\t\",p.identifier,\" \\t| \",p.name)\n",
    "\n",
    "my_project = redmine.project.get(rm_project_id_str)\n",
    "print (\"Obtenemos proyecto: \",my_project.identifier,\" | \",my_project.name)"
   ]
  },
  {
   "cell_type": "code",
   "execution_count": null,
   "metadata": {},
   "outputs": [],
   "source": [
    "file_path = \"input_dsm.ods\"\n",
    "data = get_data(file_path)['_RqDep']\n",
    "tasks = {}"
   ]
  },
  {
   "cell_type": "code",
   "execution_count": null,
   "metadata": {},
   "outputs": [],
   "source": [
    "\n",
    "i = 0\n",
    "tasks = {}\n",
    "for row in data:\n",
    "    # Let's skip the first row\n",
    "    if (i >= cfg_first_valid_row):\n",
    "        thisTsk = {}\n",
    "        if (len(row) > cfg_title_column) and (len(row[cfg_title_column]) > 0):\n",
    "            thisTsk['rmid'] = 0\n",
    "            thisTsk['rmident'] = ''\n",
    "            thisTsk['row'] = i\n",
    "            thisTsk['ident'] = row[cfg_id_column]\n",
    "            thisTsk['title'] = row[cfg_title_column]\n",
    "            if (len(row) > cfg_depend_column):\n",
    "                thisTsk['dependences'] = row[cfg_depend_column].split(' ')\n",
    "            else:\n",
    "                thisTsk['dependences'] = []\n",
    "                \n",
    "            #print(thisTsk)\n",
    "            tasks[thisTsk['ident']] = thisTsk\n",
    "        \n",
    "    i += 1\n",
    "    \n"
   ]
  },
  {
   "cell_type": "code",
   "execution_count": null,
   "metadata": {},
   "outputs": [],
   "source": [
    "print(tasks.keys())"
   ]
  },
  {
   "cell_type": "markdown",
   "metadata": {},
   "source": [
    "Vamos a buscar las mismas tareas al Redmine, si es posible encontrarlas"
   ]
  },
  {
   "cell_type": "code",
   "execution_count": null,
   "metadata": {},
   "outputs": [],
   "source": [
    "# Buscamos el prefijo del proyecto\n",
    "prjPrefix = my_project.custom_fields.get(cfg_project_prefix_cfid).value\n",
    "lenPrjPrefix = len(prjPrefix)\n",
    "# Recorreremos los identificadores de las tareas cargadas del ODS para ver si alguno se corresponde con un identificador válido de proyecto\n",
    "for tskey in tasks.keys():\n",
    "    thisRmTsk = None\n",
    "    if (len(tskey)>lenPrjPrefix+1):\n",
    "        tskPrefix = tskey[0:lenPrjPrefix]\n",
    "        if (tskPrefix == prjPrefix) and (tskey[lenPrjPrefix] == '-'):\n",
    "            print(\"Identificador rm:\",tskey)\n",
    "            thisRmTskList = myproject.issues.filter(status_id='*',subject=tskey)\n",
    "            if (len(thisRmTskList)==1):\n",
    "                # hemos encontrado una tarea de Redmine que cuadra\n",
    "                thisRmTsk = thisRmTskList[0]\n",
    "                tasks[tskey]['rmident'] = tskey\n",
    "                tasks[tskey]['rmid'] = thisRmTsk.id\n",
    "                tasks[tskey]['rmtsk'] = thisRmTsk\n",
    "                \n",
    "    if (thisRmTsk == None):\n",
    "        print(\"Tarea nueva\",tskey)\n",
    "        thisRmTsk = redmine.issue.create(project_id = my_project.id,\n",
    "            tracker_id = cfg_rmtracker_id,\n",
    "            description = tasks[tskey]['title'],\n",
    "            custom_fields=[\n",
    "                {'id': cfg_rmtitle_cfid,'value': tasks[tskey]['title']}\n",
    "            ]\n",
    "        )\n",
    "        tasks[tskey]['rmident'] = thisRmTsk.subject\n",
    "        tasks[tskey]['rmid'] = thisRmTsk.id\n",
    "        tasks[tskey]['rmtsk'] = thisRmTsk\n"
   ]
  },
  {
   "cell_type": "code",
   "execution_count": null,
   "metadata": {},
   "outputs": [],
   "source": [
    "for tskey in tasks.keys():\n",
    "    print(\"id\",tskey,\"rmident\",tasks[tskey]['rmident'])"
   ]
  },
  {
   "cell_type": "code",
   "execution_count": null,
   "metadata": {},
   "outputs": [],
   "source": [
    "# Recorreremos de nuevo los identificadores de las tareas cargadas del ODS para crear/modificar sus relaciones\n",
    "for tskey in tasks.keys():\n",
    "    odsDependences = tasks[tskey]['dependences']\n",
    "    print(\"id\",tskey,odsDependences)\n",
    "    rmDependences = []\n",
    "    for dpd in odsDependences:\n",
    "        thisRmId = tasks[dpd]['rmid']\n",
    "        print(thisRmId)\n",
    "        rmDependences.append(thisRmId)\n",
    "        \n",
    "    tasks[tskey]['rmdep'] = rmDependences\n",
    "    "
   ]
  },
  {
   "cell_type": "code",
   "execution_count": null,
   "metadata": {},
   "outputs": [],
   "source": [
    "# Ahora buscamos las dependencias ya existentes en el Redmine y las restamos de las relaciones a añadir\n",
    "for tskey in tasks.keys():\n",
    "    print(\"id\",tskey,tasks[tskey]['dependences'],tasks[tskey]['rmdep'])\n",
    "    thisTskRmId = tasks[tskey]['rmid']\n",
    "    thisTskRelations = tasks[tskey]['rmtsk'].relations\n",
    "    thisTskInputRelations = list(filter(lambda x: x.issue_to_id == thisTskRmId and relation_type=='precedes', thisTskRelations))\n",
    "    print(\"Preexistent:\", thisTskInputRelations)\n",
    "    for rel in thisTskInputRelations:\n",
    "        if rel.issue_to_id in tasks[tskey]['rmdep']:\n",
    "            # La relación está a punto de ser añadida, cancelamos su creación\n",
    "            tasks[tskey]['rmdep'].remove(rel.issue_to_id)\n",
    "            print(\"En\",tskey,\"Borro\",rel.issue_to_id,\"de\",tasks[tskey]['rmdep'])\n",
    "        \n",
    "        else:\n",
    "            # La relación ya no existe, hay que borrarla\n",
    "            redmine.issue_relation.delete(rel.id)\n",
    "            \n",
    "    # Ahora añadimos las relaciones restantes\n",
    "    for relId in tasks[tskey]['rmdep']:\n",
    "        rel = redmine.issue_relation.create(\n",
    "            issue_id=relId,\n",
    "            issue_to_id=thisTskRmId,\n",
    "            relation_type='precedes',\n",
    "            delay=0\n",
    "        )\n",
    "\n",
    "            \n"
   ]
  },
  {
   "cell_type": "code",
   "execution_count": null,
   "metadata": {},
   "outputs": [],
   "source": []
  }
 ],
 "metadata": {
  "kernelspec": {
   "display_name": "Python 3",
   "language": "python",
   "name": "python3"
  },
  "language_info": {
   "codemirror_mode": {
    "name": "ipython",
    "version": 3
   },
   "file_extension": ".py",
   "mimetype": "text/x-python",
   "name": "python",
   "nbconvert_exporter": "python",
   "pygments_lexer": "ipython3",
   "version": "3.8.2"
  }
 },
 "nbformat": 4,
 "nbformat_minor": 4
}
