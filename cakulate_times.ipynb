{
 "cells": [
  {
   "cell_type": "code",
   "execution_count": null,
   "metadata": {},
   "outputs": [],
   "source": [
    "import sys\n",
    "from collections import OrderedDict\n",
    "from pyexcel_ods import get_data\n",
    "from config_rm import *\n",
    "from redminelib import Redmine"
   ]
  },
  {
   "cell_type": "code",
   "execution_count": null,
   "metadata": {},
   "outputs": [],
   "source": [
    "redmine = Redmine(rm_server_url,key=rm_key_txt)\n",
    "projects = redmine.project.all()"
   ]
  },
  {
   "cell_type": "code",
   "execution_count": null,
   "metadata": {},
   "outputs": [],
   "source": [
    "print(\"Proyectos:\")\n",
    "for p in projects:\n",
    "    print (\"\\t\",p.identifier,\" \\t| \",p.name)\n",
    "\n",
    "my_project = redmine.project.get(rm_project_id_str)\n",
    "print (\"Obtenemos proyecto: \",my_project.identifier,\" | \",my_project.name)"
   ]
  },
  {
   "cell_type": "code",
   "execution_count": null,
   "metadata": {},
   "outputs": [],
   "source": [
    "import datetime\n",
    "def date_by_adding_business_days(from_date, add_days):\n",
    "    business_days_to_add = add_days\n",
    "    current_date = from_date\n",
    "    while business_days_to_add > 0:\n",
    "        current_date += datetime.timedelta(days=1)\n",
    "        weekday = current_date.weekday()\n",
    "        if weekday >= 5: # sunday = 6\n",
    "            continue\n",
    "        business_days_to_add -= 1\n",
    "    return current_date\n",
    "\n",
    "\n",
    "my_project = redmine.project.get(rm_project_id_str)\n",
    "print (\"Obtenemos proyecto: \",my_project.identifier,\" | \",my_project.name)\n",
    "done_issues = []\n",
    "issues_list = []\n",
    "issues_number = len(my_project.issues)\n",
    "for tsk in my_project.issues:\n",
    "    thisTskRelations = tsk.relations\n",
    "    thisTskInputRelations = list(filter(lambda x: x.issue_to_id == tsk.id and x.relation_type=='precedes', thisTskRelations))\n",
    "    relations = []\n",
    "    if len(thisTskInputRelations)>0:\n",
    "        print(\"bypass \"+tsk.subject)\n",
    "        for rel in thisTskInputRelations:\n",
    "            relations += [rel.issue_id]\n",
    "    \n",
    "    else:\n",
    "        print(\"process \"+tsk.subject)\n",
    "        done_issues += [tsk.id]\n",
    "        if not(hasattr(tsk, 'start_date')):\n",
    "            tsk.start_date = datetime.date.today()\n",
    "\n",
    "        print(\"calculate due date from \"+str(tsk.start_date)+\" + \"+str(tsk.estimated_hours))\n",
    "        tmp = date_by_adding_business_days(tsk.start_date, tsk.estimated_hours/8)\n",
    "        print(\"result = \"+str(tmp))\n",
    "        tsk.due_date = tmp\n",
    "        tsk.save()\n",
    "\n",
    "    issues_list += [{'tsk': tsk, 'relations': relations}]\n",
    "        \n",
    "print (\"------------------ RECURSIVE PROCESS -------------------\")\n",
    "while len(done_issues) < issues_number:\n",
    "    print(\"--- iteration ---\")\n",
    "    for tsktuple in issues_list:\n",
    "        tskid = tsktuple['tsk'].id\n",
    "        if (tskid not in done_issues):\n",
    "            relations = tsktuple['relations']\n",
    "            for r in relations:\n",
    "                if r in done_issues:\n",
    "                    tsk = redmine.issue.get(tskid)\n",
    "                    print(\"process \"+tsk.subject)                    \n",
    "                    print(\"calculate due date from \"+str(tsk.start_date)+\" + \"+str(tsk.estimated_hours))\n",
    "                    tmp = date_by_adding_business_days(tsk.start_date, tsk.estimated_hours/8)\n",
    "                    print(\"result = \"+str(tmp))\n",
    "                    tsk.due_date = tmp\n",
    "                    tsk.save()\n",
    "                    done_issues += [tskid]\n",
    "                \n",
    "\n",
    "print(\"Done\")\n",
    "        \n",
    "    "
   ]
  },
  {
   "cell_type": "code",
   "execution_count": null,
   "metadata": {},
   "outputs": [],
   "source": []
  }
 ],
 "metadata": {
  "kernelspec": {
   "display_name": "Python 3",
   "language": "python",
   "name": "python3"
  },
  "language_info": {
   "codemirror_mode": {
    "name": "ipython",
    "version": 3
   },
   "file_extension": ".py",
   "mimetype": "text/x-python",
   "name": "python",
   "nbconvert_exporter": "python",
   "pygments_lexer": "ipython3",
   "version": "3.8.2"
  }
 },
 "nbformat": 4,
 "nbformat_minor": 4
}
